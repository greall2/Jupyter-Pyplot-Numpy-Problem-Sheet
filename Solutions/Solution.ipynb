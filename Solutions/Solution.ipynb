{
 "cells": [
  {
   "cell_type": "markdown",
   "metadata": {},
   "source": [
    "# Iris Data Set \n",
    "\n",
    "This data set contains refers to the iris plant.\n",
    "It contains 3 classes of 50 instances each.\n",
    "\n",
    "The 3 Classes are:\n",
    "* Iris Setosa \n",
    "* Iris Versicolour \n",
    "* Iris Virginica\n",
    "\n",
    "The figures in the data set for each class are based on:\n",
    "1. sepal length in cm \n",
    "2. sepal width in cm \n",
    "3. petal length in cm \n",
    "4. petal width in cm \n",
    "\n",
    "references: https://archive.ics.uci.edu/ml/datasets/iris\n"
   ]
  },
  {
   "cell_type": "code",
   "execution_count": 1,
   "metadata": {
    "scrolled": true
   },
   "outputs": [
    {
     "name": "stdout",
     "output_type": "stream",
     "text": [
      "5.1 3.5 1.4 setosa\n",
      "4.9 3.0 1.4 setosa\n",
      "4.7 3.2 1.3 setosa\n",
      "4.6 3.1 1.5 setosa\n",
      "5.0 3.6 1.4 setosa\n",
      "5.4 3.9 1.7 setosa\n",
      "4.6 3.4 1.4 setosa\n",
      "5.0 3.4 1.5 setosa\n",
      "4.4 2.9 1.4 setosa\n",
      "4.9 3.1 1.5 setosa\n",
      "5.4 3.7 1.5 setosa\n",
      "4.8 3.4 1.6 setosa\n",
      "4.8 3.0 1.4 setosa\n",
      "4.3 3.0 1.1 setosa\n",
      "5.8 4.0 1.2 setosa\n",
      "5.7 4.4 1.5 setosa\n",
      "5.4 3.9 1.3 setosa\n",
      "5.1 3.5 1.4 setosa\n",
      "5.7 3.8 1.7 setosa\n",
      "5.1 3.8 1.5 setosa\n",
      "5.4 3.4 1.7 setosa\n",
      "5.1 3.7 1.5 setosa\n",
      "4.6 3.6 1.0 setosa\n",
      "5.1 3.3 1.7 setosa\n",
      "4.8 3.4 1.9 setosa\n",
      "5.0 3.0 1.6 setosa\n",
      "5.0 3.4 1.6 setosa\n",
      "5.2 3.5 1.5 setosa\n",
      "5.2 3.4 1.4 setosa\n",
      "4.7 3.2 1.6 setosa\n",
      "4.8 3.1 1.6 setosa\n",
      "5.4 3.4 1.5 setosa\n",
      "7.0 3.2 4.7 versicolor\n",
      "6.4 3.2 4.5 versicolor\n",
      "6.9 3.1 4.9 versicolor\n",
      "5.5 2.3 4.0 versicolor\n",
      "6.5 2.8 4.6 versicolor\n",
      "5.7 2.8 4.5 versicolor\n",
      "6.3 3.3 4.7 versicolor\n",
      "4.9 2.4 3.3 versicolor\n",
      "6.6 2.9 4.6 versicolor\n",
      "5.2 2.7 3.9 versicolor\n",
      "5.0 2.0 3.5 versicolor\n",
      "5.9 3.0 4.2 versicolor\n",
      "6.0 2.2 4.0 versicolor\n",
      "6.1 2.9 4.7 versicolor\n",
      "5.6 2.9 3.6 versicolor\n",
      "6.7 3.1 4.4 versicolor\n",
      "5.6 3.0 4.5 versicolor\n",
      "5.8 2.7 4.1 versicolor\n",
      "6.2 2.2 4.5 versicolor\n",
      "5.6 2.5 3.9 versicolor\n",
      "5.9 3.2 4.8 versicolor\n",
      "6.1 2.8 4.0 versicolor\n",
      "6.3 2.5 4.9 versicolor\n",
      "6.1 2.8 4.7 versicolor\n",
      "6.4 2.9 4.3 versicolor\n",
      "6.6 3.0 4.4 versicolor\n",
      "6.8 2.8 4.8 versicolor\n",
      "6.7 3.0 5.0 versicolor\n",
      "6.0 2.9 4.5 versicolor\n",
      "5.7 2.6 3.5 versicolor\n",
      "5.5 2.4 3.8 versicolor\n",
      "5.5 2.4 3.7 versicolor\n",
      "5.8 2.7 3.9 versicolor\n",
      "6.0 2.7 5.1 versicolor\n",
      "6.3 3.3 6.0 virginica\n",
      "5.8 2.7 5.1 virginica\n",
      "7.1 3.0 5.9 virginica\n",
      "6.3 2.9 5.6 virginica\n",
      "6.5 3.0 5.8 virginica\n",
      "7.6 3.0 6.6 virginica\n",
      "4.9 2.5 4.5 virginica\n",
      "7.3 2.9 6.3 virginica\n",
      "6.7 2.5 5.8 virginica\n",
      "7.2 3.6 6.1 virginica\n",
      "6.5 3.2 5.1 virginica\n",
      "6.4 2.7 5.3 virginica\n",
      "6.8 3.0 5.5 virginica\n",
      "5.7 2.5 5.0 virginica\n",
      "5.8 2.8 5.1 virginica\n",
      "6.4 3.2 5.3 virginica\n",
      "6.5 3.0 5.5 virginica\n",
      "7.7 3.8 6.7 virginica\n",
      "7.7 2.6 6.9 virginica\n",
      "6.0 2.2 5.0 virginica\n",
      "6.9 3.2 5.7 virginica\n",
      "5.6 2.8 4.9 virginica\n",
      "7.7 2.8 6.7 virginica\n",
      "6.3 2.7 4.9 virginica\n",
      "6.7 3.3 5.7 virginica\n",
      "7.2 3.2 6.0 virginica\n",
      "6.2 2.8 4.8 virginica\n",
      "6.1 3.0 4.9 virginica\n",
      "6.4 2.8 5.6 virginica\n",
      "7.2 3.0 5.8 virginica\n",
      "7.4 2.8 6.1 virginica\n",
      "7.9 3.8 6.4 virginica\n",
      "6.4 2.8 5.6 virginica\n",
      "6.3 2.8 5.1 virginica\n"
     ]
    }
   ],
   "source": [
    "import numpy as np\n",
    "\n",
    "#Loading in IRIS.csv\n",
    "sepalLength, sepalWidth, petalLength, petalWidth = np.loadtxt('iris.csv', delimiter=',', usecols=(0,1,2,3), unpack=True, dtype=float)\n",
    "\n",
    "classes = np.loadtxt('iris.csv', delimiter=',', usecols=(4), unpack=True, dtype=str)\n",
    "\n",
    "#printing out the data \n",
    "for i in range(len(sepalLength)):\n",
    "    print(str(sepalLength[i])+' '+ str(sepalWidth[i]) + ' ' + str(petalLength[i]) + ' ' +str(classes[i]))"
   ]
  },
  {
   "cell_type": "code",
   "execution_count": 2,
   "metadata": {},
   "outputs": [
    {
     "data": {
      "image/png": "[encoded data removed]",
      "text/plain": [
       "<matplotlib.figure.Figure at 0x5bfa670>"
      ]
     },
     "metadata": {},
     "output_type": "display_data"
    }
   ],
   "source": [
    "\n",
    "import matplotlib.pyplot as pl\n",
    "\n",
    "#setting the size of the graph\n",
    "pl.rcParams['figure.figsize'] = (10.0, 10.0)\n",
    "pl.scatter(sepalLength, sepalWidth, marker='.')\n",
    "\n",
    "pl.title('Sepal Width vs Sepal Length')\n",
    "pl.xlabel('Sepal Length')\n",
    "pl.ylabel('Sepal Width')\n",
    "pl.show()\n",
    "\n"
   ]
  },
  {
   "cell_type": "code",
   "execution_count": null,
   "metadata": {},
   "outputs": [],
   "source": []
  }
 ],
 "metadata": {
  "kernelspec": {
   "display_name": "Python 3",
   "language": "python",
   "name": "python3"
  },
  "language_info": {
   "codemirror_mode": {
    "name": "ipython",
    "version": 3
   },
   "file_extension": ".py",
   "mimetype": "text/x-python",
   "name": "python",
   "nbconvert_exporter": "python",
   "pygments_lexer": "ipython3",
   "version": "3.5.2"
  }
 },
 "nbformat": 4,
 "nbformat_minor": 2
}
